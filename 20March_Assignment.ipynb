{
 "cells": [
  {
   "cell_type": "markdown",
   "id": "970fb635",
   "metadata": {},
   "source": [
    "# Q1. What is data encoding? How is it useful in data science?"
   ]
  },
  {
   "cell_type": "markdown",
   "id": "3c3934b4",
   "metadata": {},
   "source": [
    "Data encoding involves converting a sequence of text characters into binary code so computers, which operate using binary numbers, can process, store, or transmit that textual information. Decoding occurs when the information is then translated from binary form into a readable version. Decoding is the reverse process of encoding which is to extract the information from the converted format.\n",
    "\n",
    "\n",
    "\n"
   ]
  },
  {
   "cell_type": "markdown",
   "id": "a332d021",
   "metadata": {},
   "source": [
    "# Q2. What is nominal encoding? Provide an example of how you would use it in a real-world scenario."
   ]
  },
  {
   "cell_type": "markdown",
   "id": "ac63c055",
   "metadata": {},
   "source": [
    "When we have a feature where variables are just names and there is no order or rank to this variable's feature.Nominal encoding also known as onehot encoding.ach category is mapped with a binary variable containing either 0 or 1. Here, 0 represents the absence, and 1 represents the presence of that category.\n",
    "\n",
    "For example: City of person lives in, Gender of person, Marital Status, etc…"
   ]
  },
  {
   "cell_type": "markdown",
   "id": "acff615f",
   "metadata": {},
   "source": [
    "# Q3. In what situations is nominal encoding preferred over one-hot encoding? Provide a practical example."
   ]
  },
  {
   "cell_type": "markdown",
   "id": "691b8551",
   "metadata": {},
   "source": [
    "There is no difference between nominal encoding and one-hot encoding. Both techniques convert categorical variables into binary variables.\n",
    "\n",
    "For example, in a dataset of different car makes and models, we might use nominal encoding to convert the categorical variabl"
   ]
  },
  {
   "cell_type": "markdown",
   "id": "6572c376",
   "metadata": {},
   "source": [
    "# Q4. Suppose you have a dataset containing categorical data with 5 unique values. Which encoding technique would you use to transform this data into a format suitable for machine learning algorithms?Explain why you made this choice."
   ]
  },
  {
   "cell_type": "markdown",
   "id": "c0debb49",
   "metadata": {},
   "source": [
    "For categorical data with 5 unique values, I would use nominal encoding, also known as one-hot encoding, to transform the data into a format suitable   for machine learning algorithms. This is because nominal encoding assigns a unique binary value to each category, which can be used as input features in machine learning algorithms.\n",
    "        \n",
    "Ordinal encoding, which assigns integer values based on the rank or order of the categories, would not be suitable for this data as there is no inherent order or ranking to the categories. By using nominal encoding, we can preserve the non-numeric nature of the categories while also allowing the machine learning algorithm to process the data effectively."
   ]
  },
  {
   "cell_type": "markdown",
   "id": "2c08be6d",
   "metadata": {},
   "source": [
    "# Q5. In a machine learning project, you have a dataset with 1000 rows and 5 columns. Two of the columns are categorical, and the remaining three columns are numerical. If you were to use nominal encoding to transform the categorical data, how many new columns would be created? Show your calculations."
   ]
  },
  {
   "cell_type": "markdown",
   "id": "f459763d",
   "metadata": {},
   "source": [
    "Assuming the two categorical columns have a total of n unique categories, nominal encoding would transform them into n binary columns.\n",
    "\n",
    "Therefore, the number of new columns created would be:\n",
    "    k * 2 (since there are two categorical columns)\n",
    "        \n",
    "Without knowing the number of unique categories in the two categorical columns, it is not possible to determine the exact number of new columns that would be created.\n"
   ]
  },
  {
   "cell_type": "markdown",
   "id": "5c387d13",
   "metadata": {},
   "source": [
    "# Q6. You are working with a dataset containing information about different types of animals, including their species, habitat, and diet. Which encoding technique would you use to transform the categorical data into a format suitable for machine learning algorithms? Justify your answer."
   ]
  },
  {
   "cell_type": "markdown",
   "id": "1f2f327f",
   "metadata": {},
   "source": [
    "For the given dataset containing information about different types of animals, I would use nominal encoding, also known as one-hot encoding,  to transform the categorical data into a format suitable for machine learning algorithms. The reason for this is that nominal encoding is particularly useful when dealing with categorical variables with no inherent order or ranking.  In this case, both the \"species\" and \"habitat\" variables likely do not have a natural order or ranking, and nominal encoding would be a suitable  way to convert them into binary variables that can be processed by machine learning algorithms."
   ]
  },
  {
   "cell_type": "markdown",
   "id": "8727d258",
   "metadata": {},
   "source": [
    "# Q7.You are working on a project that involves predicting customer churn for a telecommunicationscompany. You have a dataset with 5 features, including the customer's gender, age, contract type,monthly charges, and tenure. Which encoding technique(s) would you use to transform the categoricaldata into numerical data? Provide a step-by-step explanation of how you would implement the encoding."
   ]
  },
  {
   "cell_type": "markdown",
   "id": "5a7d93ab",
   "metadata": {},
   "source": [
    "For the given dataset, the \"gender\" variable is nominal and the \"contract type\" variable is likely nominal as well, while the remaining three variables are numerical. To transform the nominal categorical data into numerical data, I would use nominal encoding, also known as one-hot encoding.\n",
    "         \n",
    "Here's a step-by-step explanation of how I would implement the encoding:\n",
    "\n",
    "            1. Identify the nominal categorical variables: \"gender\" and \"contract type\".\n",
    "        \n",
    "            2. Create binary variables for each unique category in the nominal categorical variables. For example, for the \"gender\" variable, \n",
    "                we would create two binary variables, one for \"Male\" and one for \"Female\". For the \"contract type\" variable, we would create \n",
    "                binary variables for each type of contract (e.g., \"Month-to-month\", \"One year\", \"Two year\").\n",
    "            \n",
    "            3. Replace the original nominal categorical variables with the newly created binary variables.\n",
    "           \n",
    "            4. Normalize the numerical variables (e.g., \"age\", \"monthly charges\", and \"tenure\") to ensure they are on the same scale and can be \n",
    "                processed by machine learning algorithms.\n",
    "            \n",
    "            5. Use the transformed dataset to train and evaluate machine learning models to predict customer churn."
   ]
  },
  {
   "cell_type": "code",
   "execution_count": null,
   "id": "295827d1",
   "metadata": {},
   "outputs": [],
   "source": []
  }
 ],
 "metadata": {
  "kernelspec": {
   "display_name": "Python 3 (ipykernel)",
   "language": "python",
   "name": "python3"
  },
  "language_info": {
   "codemirror_mode": {
    "name": "ipython",
    "version": 3
   },
   "file_extension": ".py",
   "mimetype": "text/x-python",
   "name": "python",
   "nbconvert_exporter": "python",
   "pygments_lexer": "ipython3",
   "version": "3.10.9"
  }
 },
 "nbformat": 4,
 "nbformat_minor": 5
}
